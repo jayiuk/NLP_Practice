{
 "cells": [
  {
   "cell_type": "markdown",
   "metadata": {},
   "source": [
    "# Embedding model\n",
    "## bge-m3"
   ]
  },
  {
   "cell_type": "code",
   "execution_count": 1,
   "metadata": {},
   "outputs": [
    {
     "name": "stdout",
     "output_type": "stream",
     "text": [
      "WARNING:tensorflow:From c:\\Users\\user\\anaconda3\\envs\\nlp\\Lib\\site-packages\\tf_keras\\src\\losses.py:2976: The name tf.losses.sparse_softmax_cross_entropy is deprecated. Please use tf.compat.v1.losses.sparse_softmax_cross_entropy instead.\n",
      "\n"
     ]
    }
   ],
   "source": [
    "from sentence_transformers import SentenceTransformer"
   ]
  },
  {
   "cell_type": "code",
   "execution_count": 2,
   "metadata": {},
   "outputs": [
    {
     "name": "stderr",
     "output_type": "stream",
     "text": [
      "c:\\Users\\user\\anaconda3\\envs\\nlp\\Lib\\site-packages\\huggingface_hub\\file_download.py:159: UserWarning: `huggingface_hub` cache-system uses symlinks by default to efficiently store duplicated files but your machine does not support them in C:\\Users\\user\\.cache\\huggingface\\hub\\models--BAAI--bge-m3. Caching files will still work but in a degraded version that might require more space on your disk. This warning can be disabled by setting the `HF_HUB_DISABLE_SYMLINKS_WARNING` environment variable. For more details, see https://huggingface.co/docs/huggingface_hub/how-to-cache#limitations.\n",
      "To support symlinks on Windows, you either need to activate Developer Mode or to run Python as an administrator. In order to see activate developer mode, see this article: https://docs.microsoft.com/en-us/windows/apps/get-started/enable-your-device-for-development\n",
      "  warnings.warn(message)\n"
     ]
    }
   ],
   "source": [
    "model = SentenceTransformer(\"BAAI/bge-m3\")"
   ]
  },
  {
   "cell_type": "code",
   "execution_count": 6,
   "metadata": {},
   "outputs": [
    {
     "data": {
      "text/plain": [
       "array([ 0.00560306,  0.03283845, -0.04176652, ..., -0.00452853,\n",
       "       -0.02254617,  0.04927669], dtype=float32)"
      ]
     },
     "execution_count": 6,
     "metadata": {},
     "output_type": "execute_result"
    }
   ],
   "source": [
    "embedded_vector = model.encode(\"야 저기 차온다\")\n",
    "embedded_vector"
   ]
  },
  {
   "cell_type": "code",
   "execution_count": 7,
   "metadata": {},
   "outputs": [],
   "source": [
    "import pandas as pd\n",
    "\n",
    "data = [\n",
    "    \"내일 차타고 놀러가자\",\n",
    "    \"지금 오는 버스는 어디서 오는 버스야?\",\n",
    "    \"차 한잔 하면서 이야기 하시죠\",\n",
    "    \"5차 공동구매! 오늘만 세일!\",\n",
    "    \"홍차 녹차 중에 어떤 차가 좋으세요?\",\n",
    "]\n",
    "\n",
    "df = pd.DataFrame(data, columns=['text'])"
   ]
  },
  {
   "cell_type": "code",
   "execution_count": 8,
   "metadata": {},
   "outputs": [
    {
     "data": {
      "text/html": [
       "<div>\n",
       "<style scoped>\n",
       "    .dataframe tbody tr th:only-of-type {\n",
       "        vertical-align: middle;\n",
       "    }\n",
       "\n",
       "    .dataframe tbody tr th {\n",
       "        vertical-align: top;\n",
       "    }\n",
       "\n",
       "    .dataframe thead th {\n",
       "        text-align: right;\n",
       "    }\n",
       "</style>\n",
       "<table border=\"1\" class=\"dataframe\">\n",
       "  <thead>\n",
       "    <tr style=\"text-align: right;\">\n",
       "      <th></th>\n",
       "      <th>text</th>\n",
       "      <th>embedding</th>\n",
       "    </tr>\n",
       "  </thead>\n",
       "  <tbody>\n",
       "    <tr>\n",
       "      <th>0</th>\n",
       "      <td>내일 차타고 놀러가자</td>\n",
       "      <td>[0.0054786922, 0.016985165, -0.02041358, 0.024...</td>\n",
       "    </tr>\n",
       "    <tr>\n",
       "      <th>1</th>\n",
       "      <td>지금 오는 버스는 어디서 오는 버스야?</td>\n",
       "      <td>[-0.013388522, 0.024189422, -0.025403237, -0.0...</td>\n",
       "    </tr>\n",
       "    <tr>\n",
       "      <th>2</th>\n",
       "      <td>차 한잔 하면서 이야기 하시죠</td>\n",
       "      <td>[-0.0022157743, 0.010684666, -0.039016657, 0.0...</td>\n",
       "    </tr>\n",
       "    <tr>\n",
       "      <th>3</th>\n",
       "      <td>5차 공동구매! 오늘만 세일!</td>\n",
       "      <td>[-0.030319413, -0.0011549561, -0.03304448, 0.0...</td>\n",
       "    </tr>\n",
       "    <tr>\n",
       "      <th>4</th>\n",
       "      <td>홍차 녹차 중에 어떤 차가 좋으세요?</td>\n",
       "      <td>[0.0361152, 0.0046490077, -0.021344075, -0.028...</td>\n",
       "    </tr>\n",
       "  </tbody>\n",
       "</table>\n",
       "</div>"
      ],
      "text/plain": [
       "                    text                                          embedding\n",
       "0            내일 차타고 놀러가자  [0.0054786922, 0.016985165, -0.02041358, 0.024...\n",
       "1  지금 오는 버스는 어디서 오는 버스야?  [-0.013388522, 0.024189422, -0.025403237, -0.0...\n",
       "2       차 한잔 하면서 이야기 하시죠  [-0.0022157743, 0.010684666, -0.039016657, 0.0...\n",
       "3       5차 공동구매! 오늘만 세일!  [-0.030319413, -0.0011549561, -0.03304448, 0.0...\n",
       "4   홍차 녹차 중에 어떤 차가 좋으세요?  [0.0361152, 0.0046490077, -0.021344075, -0.028..."
      ]
     },
     "execution_count": 8,
     "metadata": {},
     "output_type": "execute_result"
    }
   ],
   "source": [
    "def get_embedded_vector(text):\n",
    "    return list(model.encode(text))\n",
    "\n",
    "df['embedding'] = df.apply(lambda x : get_embedded_vector(x.text), axis = 1)\n",
    "df"
   ]
  },
  {
   "cell_type": "code",
   "execution_count": 9,
   "metadata": {},
   "outputs": [],
   "source": [
    "import numpy as np\n",
    "\n",
    "def cos_sim(a, b):\n",
    "    return a @ b/(np.linalg.norm(a)*np.linalg.norm(b))"
   ]
  },
  {
   "cell_type": "code",
   "execution_count": 16,
   "metadata": {},
   "outputs": [],
   "source": [
    "def return_answer_candidate(df, query):\n",
    "    query_embedding = get_embedded_vector(query)\n",
    "    df[\"similarity\"] = df.embedding.apply(lambda x : cos_sim(np.array(x), np.array(query_embedding)))\n",
    "    result = df.sort_values(\"similarity\", ascending = False)\n",
    "    return result"
   ]
  },
  {
   "cell_type": "code",
   "execution_count": 17,
   "metadata": {},
   "outputs": [
    {
     "data": {
      "text/html": [
       "<div>\n",
       "<style scoped>\n",
       "    .dataframe tbody tr th:only-of-type {\n",
       "        vertical-align: middle;\n",
       "    }\n",
       "\n",
       "    .dataframe tbody tr th {\n",
       "        vertical-align: top;\n",
       "    }\n",
       "\n",
       "    .dataframe thead th {\n",
       "        text-align: right;\n",
       "    }\n",
       "</style>\n",
       "<table border=\"1\" class=\"dataframe\">\n",
       "  <thead>\n",
       "    <tr style=\"text-align: right;\">\n",
       "      <th></th>\n",
       "      <th>text</th>\n",
       "      <th>embedding</th>\n",
       "      <th>similarity</th>\n",
       "    </tr>\n",
       "  </thead>\n",
       "  <tbody>\n",
       "    <tr>\n",
       "      <th>0</th>\n",
       "      <td>내일 차타고 놀러가자</td>\n",
       "      <td>[0.0054786922, 0.016985165, -0.02041358, 0.024...</td>\n",
       "      <td>0.720349</td>\n",
       "    </tr>\n",
       "    <tr>\n",
       "      <th>1</th>\n",
       "      <td>지금 오는 버스는 어디서 오는 버스야?</td>\n",
       "      <td>[-0.013388522, 0.024189422, -0.025403237, -0.0...</td>\n",
       "      <td>0.710821</td>\n",
       "    </tr>\n",
       "    <tr>\n",
       "      <th>2</th>\n",
       "      <td>차 한잔 하면서 이야기 하시죠</td>\n",
       "      <td>[-0.0022157743, 0.010684666, -0.039016657, 0.0...</td>\n",
       "      <td>0.664830</td>\n",
       "    </tr>\n",
       "    <tr>\n",
       "      <th>3</th>\n",
       "      <td>5차 공동구매! 오늘만 세일!</td>\n",
       "      <td>[-0.030319413, -0.0011549561, -0.03304448, 0.0...</td>\n",
       "      <td>0.477791</td>\n",
       "    </tr>\n",
       "    <tr>\n",
       "      <th>4</th>\n",
       "      <td>홍차 녹차 중에 어떤 차가 좋으세요?</td>\n",
       "      <td>[0.0361152, 0.0046490077, -0.021344075, -0.028...</td>\n",
       "      <td>0.441064</td>\n",
       "    </tr>\n",
       "  </tbody>\n",
       "</table>\n",
       "</div>"
      ],
      "text/plain": [
       "                    text                                          embedding  \\\n",
       "0            내일 차타고 놀러가자  [0.0054786922, 0.016985165, -0.02041358, 0.024...   \n",
       "1  지금 오는 버스는 어디서 오는 버스야?  [-0.013388522, 0.024189422, -0.025403237, -0.0...   \n",
       "2       차 한잔 하면서 이야기 하시죠  [-0.0022157743, 0.010684666, -0.039016657, 0.0...   \n",
       "3       5차 공동구매! 오늘만 세일!  [-0.030319413, -0.0011549561, -0.03304448, 0.0...   \n",
       "4   홍차 녹차 중에 어떤 차가 좋으세요?  [0.0361152, 0.0046490077, -0.021344075, -0.028...   \n",
       "\n",
       "   similarity  \n",
       "0    0.720349  \n",
       "1    0.710821  \n",
       "2    0.664830  \n",
       "3    0.477791  \n",
       "4    0.441064  "
      ]
     },
     "execution_count": 17,
     "metadata": {},
     "output_type": "execute_result"
    }
   ],
   "source": [
    "sim_result = return_answer_candidate(df, \"야 저기 차 온다\")\n",
    "sim_result"
   ]
  },
  {
   "cell_type": "code",
   "execution_count": null,
   "metadata": {},
   "outputs": [],
   "source": []
  }
 ],
 "metadata": {
  "kernelspec": {
   "display_name": "nlp",
   "language": "python",
   "name": "python3"
  },
  "language_info": {
   "codemirror_mode": {
    "name": "ipython",
    "version": 3
   },
   "file_extension": ".py",
   "mimetype": "text/x-python",
   "name": "python",
   "nbconvert_exporter": "python",
   "pygments_lexer": "ipython3",
   "version": "3.11.7"
  }
 },
 "nbformat": 4,
 "nbformat_minor": 2
}
