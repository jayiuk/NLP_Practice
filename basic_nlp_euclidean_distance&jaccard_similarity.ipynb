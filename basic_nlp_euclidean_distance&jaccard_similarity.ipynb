{
 "cells": [
  {
   "cell_type": "markdown",
   "metadata": {},
   "source": [
    "# 유클리디안 거리"
   ]
  },
  {
   "cell_type": "code",
   "execution_count": 2,
   "metadata": {},
   "outputs": [
    {
     "name": "stdout",
     "output_type": "stream",
     "text": [
      "문서 1과 문서 Q의 유클리디안 거리 :  2.23606797749979\n",
      "문서 2와 문서 Q의 유클리디안 거리 :  3.1622776601683795\n",
      "문서 3과 문서 Q의 유클리디안 거리 :  2.449489742783178\n"
     ]
    }
   ],
   "source": [
    "import numpy as np\n",
    "def dist(x, y):\n",
    "    return np.sqrt(np.sum((x - y) ** 2))\n",
    "doc1 = np.array([2, 3, 0, 1])\n",
    "doc2 = np.array([1, 2, 3, 1])\n",
    "doc3 = np.array([2, 1, 2, 2])\n",
    "docQ = np.array([1, 1, 0, 1])\n",
    "\n",
    "print(\"문서 1과 문서 Q의 유클리디안 거리 : \", dist(doc1, docQ))\n",
    "print(\"문서 2와 문서 Q의 유클리디안 거리 : \", dist(doc2, docQ))\n",
    "print(\"문서 3과 문서 Q의 유클리디안 거리 : \", dist(doc3, docQ))"
   ]
  },
  {
   "cell_type": "markdown",
   "metadata": {},
   "source": [
    "- 유클리디안 거리 비교 결과\n",
    "  - 문서 Q와 가장 유사한 문서는 doc1"
   ]
  },
  {
   "cell_type": "markdown",
   "metadata": {},
   "source": [
    "# 자카드 유사도"
   ]
  },
  {
   "cell_type": "code",
   "execution_count": 3,
   "metadata": {},
   "outputs": [
    {
     "name": "stdout",
     "output_type": "stream",
     "text": [
      "['apple', 'banana', 'everyone', 'like', 'likey', 'watch', 'card', 'holder']\n",
      "['apple', 'banana', 'coupon', 'passport', 'love', 'you']\n"
     ]
    }
   ],
   "source": [
    "doc1 = \"apple banana everyone like likey watch card holder\"\n",
    "doc2 = \"apple banana coupon passport love you\"\n",
    "tokenized_1 = doc1.split()\n",
    "tokenized_2 = doc2.split()\n",
    "print(tokenized_1)\n",
    "print(tokenized_2)"
   ]
  },
  {
   "cell_type": "code",
   "execution_count": 4,
   "metadata": {},
   "outputs": [
    {
     "name": "stdout",
     "output_type": "stream",
     "text": [
      "{'likey', 'like', 'everyone', 'holder', 'banana', 'passport', 'coupon', 'watch', 'love', 'you', 'apple', 'card'}\n"
     ]
    }
   ],
   "source": [
    "union = set(tokenized_1).union(set(tokenized_2))\n",
    "print(union)"
   ]
  },
  {
   "cell_type": "code",
   "execution_count": 5,
   "metadata": {},
   "outputs": [
    {
     "data": {
      "text/plain": [
       "{'apple', 'banana'}"
      ]
     },
     "execution_count": 5,
     "metadata": {},
     "output_type": "execute_result"
    }
   ],
   "source": [
    "intersection = set(tokenized_1).intersection(set(tokenized_2))\n",
    "intersection"
   ]
  },
  {
   "cell_type": "code",
   "execution_count": 6,
   "metadata": {},
   "outputs": [
    {
     "name": "stdout",
     "output_type": "stream",
     "text": [
      "자카드 유사도 :  0.16666666666666666\n"
     ]
    }
   ],
   "source": [
    "print('자카드 유사도 : ', len(intersection) / len(union))"
   ]
  },
  {
   "cell_type": "markdown",
   "metadata": {},
   "source": [
    "- 결과\n",
    "  - 문서 1과 문서 2의 유사도는 그렇게 크지 않음"
   ]
  }
 ],
 "metadata": {
  "kernelspec": {
   "display_name": "base",
   "language": "python",
   "name": "python3"
  },
  "language_info": {
   "codemirror_mode": {
    "name": "ipython",
    "version": 3
   },
   "file_extension": ".py",
   "mimetype": "text/x-python",
   "name": "python",
   "nbconvert_exporter": "python",
   "pygments_lexer": "ipython3",
   "version": "3.11.7"
  }
 },
 "nbformat": 4,
 "nbformat_minor": 2
}
