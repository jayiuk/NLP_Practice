{
 "cells": [
  {
   "cell_type": "code",
   "execution_count": 3,
   "metadata": {},
   "outputs": [],
   "source": [
    "import langchain\n",
    "from langchain.schema import Document\n",
    "from transformers import AutoTokenizer, AutoModelForCausalLM, BitsAndBytesConfig\n",
    "from sentence_transformers import SentenceTransformer\n",
    "from langchain.text_splitter import RecursiveCharacterTextSplitter\n",
    "import langchain_community"
   ]
  },
  {
   "cell_type": "code",
   "execution_count": 4,
   "metadata": {},
   "outputs": [],
   "source": [
    "import os\n",
    "import json\n",
    "from datetime import datetime\n",
    "import openai"
   ]
  },
  {
   "cell_type": "code",
   "execution_count": 5,
   "metadata": {},
   "outputs": [],
   "source": [
    "def get_delivery_date(order_id: str) -> datetime:\n",
    "    return datetime.today().strftime('%Y-%m-%d')"
   ]
  },
  {
   "cell_type": "code",
   "execution_count": 6,
   "metadata": {},
   "outputs": [],
   "source": [
    "# LLM에서 사용할 함수 tool 생성\n",
    "function_tool = {\n",
    "    \"type\" : \"function\", # 도구의 타입을 function으로 설정 -> 함수 호출 기능 제공 명시\n",
    "    \"function\" : {\n",
    "        \"name\" : \"get_delivery_date\", # 함수 이름 정의\n",
    "        \"description\" : \"고객의 주문에 대한 배송 날짜를 확인합니다. 예를 들어, 고객이 '내 패키지가 어디에 있나요?'라고 물을 때 이 함수를 호출하세요.\",\n",
    "        \"parameters\" : {\n",
    "            \"type\" : \"object\",\n",
    "            \"properties\":{\n",
    "                \"order_id\" : {\n",
    "                \"type\" : \"string\",\n",
    "                \"description\" : \"고객의 주문 ID\"\n",
    "            }\n",
    "         },\n",
    "            \"required\" : [\"order_id\"],\n",
    "            \"additionalProperties\" : False\n",
    "        }\n",
    "\n",
    "    }\n",
    "}\n",
    "\n",
    "tools = [function_tool]"
   ]
  },
  {
   "cell_type": "code",
   "execution_count": 7,
   "metadata": {},
   "outputs": [],
   "source": [
    "messages = []\n",
    "messages.append({\"role\": \"system\", \"content\": \"당신은 도움이 되는 고객 지원 어시스턴트입니다. 제공된 도구를 사용하여 사용자를 지원하세요.\"})\n",
    "messages.append({\"role\": \"user\", \"content\": \"안녕하세요, 제 주문의 배송 날짜를 알려주실 수 있나요?\"})\n",
    "messages.append({\"role\": \"assistant\", \"content\": \"안녕하세요! 제가 도와드릴 수 있습니다. 주문 ID를 알려주시겠어요?\"})\n",
    "messages.append({\"role\": \"user\", \"content\": \"쓸데 없는 소리\"})"
   ]
  },
  {
   "cell_type": "code",
   "execution_count": null,
   "metadata": {},
   "outputs": [],
   "source": [
    "# 함수 매개변수 추출\n",
    "tool_call = response.choices[0].tool_calls\n",
    "\n",
    "if tool_call:\n",
    "    print(tool_call[0])\n",
    "else:\n",
    "    print(\"No\") #실제론 필요 없음"
   ]
  },
  {
   "cell_type": "code",
   "execution_count": null,
   "metadata": {},
   "outputs": [],
   "source": [
    "arguments = json.loads(tool_call[0].function.arguments)\n",
    "arguments"
   ]
  },
  {
   "cell_type": "code",
   "execution_count": null,
   "metadata": {},
   "outputs": [],
   "source": [
    "get_delivery_date(**arguments)"
   ]
  }
 ],
 "metadata": {
  "kernelspec": {
   "display_name": "nlp",
   "language": "python",
   "name": "python3"
  },
  "language_info": {
   "codemirror_mode": {
    "name": "ipython",
    "version": 3
   },
   "file_extension": ".py",
   "mimetype": "text/x-python",
   "name": "python",
   "nbconvert_exporter": "python",
   "pygments_lexer": "ipython3",
   "version": "3.11.7"
  }
 },
 "nbformat": 4,
 "nbformat_minor": 2
}
